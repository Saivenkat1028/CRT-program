{
 "cells": [
  {
   "cell_type": "markdown",
   "metadata": {},
   "source": [
    "# Markdown basics\n",
    "## Markdown basics\n",
    "### Markdown basics\n",
    "#### Markdown basics\n",
    "##### Markdown basics\n",
    "###### Markdown basics\n",
    "\n",
    "* **point 1** (bold)\n",
    "* *point2* (itallic)\n",
    "* ***point3***(bold and itallic)\n",
    "\n",
    "* Normal Text\n",
    " * sublist 1\n",
    " * sublist 2\n",
    " \n",
    "   >1.point 1\n",
    "   >2.point 2\n",
    "* ***Adding links to Markdown***\n",
    " \n",
    " * Google site -- [1]: https://www.google.com\n",
    " * msn site    -- [2]: https://www.msn.com\n",
    " \n",
    "- .[].option 1\n",
    "\n",
    "* Google site -- [Google][1]\n",
    ".[1]:https//:www.google.com\n",
    "\n",
    " \n",
    " \n",
    "\n",
    "\n",
    "\n"
   ]
  },
  {
   "cell_type": "markdown",
   "metadata": {},
   "source": [
    "### Python Basics\n",
    "* Python version 3.7\n",
    "* Functional programming\n",
    "* Object oriented programming\n",
    "* Scripting programming\n"
   ]
  },
  {
   "cell_type": "code",
   "execution_count": 1,
   "metadata": {},
   "outputs": [
    {
     "name": "stdout",
     "output_type": "stream",
     "text": [
      "Hello,Gitam\n"
     ]
    }
   ],
   "source": [
    "print(\"Hello,Gitam\")\n"
   ]
  },
  {
   "cell_type": "code",
   "execution_count": 2,
   "metadata": {},
   "outputs": [
    {
     "name": "stdout",
     "output_type": "stream",
     "text": [
      "hello,Gitam\n",
      "Hyderabad\n"
     ]
    }
   ],
   "source": [
    "print(\"hello,Gitam\")\n",
    "print(\"Hyderabad\")"
   ]
  },
  {
   "cell_type": "code",
   "execution_count": 6,
   "metadata": {},
   "outputs": [
    {
     "name": "stdout",
     "output_type": "stream",
     "text": [
      "Hello,Gitam l l lHyderabad l l l Python Programming\n"
     ]
    }
   ],
   "source": [
    "print(\"Hello,Gitam\",\"l l l\",end=\"\")\n",
    "print(\"Hyderabad\",end=\" l l l \")\n",
    "print(\"Python Programming\")\n",
    "      "
   ]
  },
  {
   "cell_type": "code",
   "execution_count": 8,
   "metadata": {},
   "outputs": [
    {
     "name": "stdout",
     "output_type": "stream",
     "text": [
      "100\n",
      "20 20 20\n",
      "111 222 333\n"
     ]
    }
   ],
   "source": [
    "n1 = 100 # Single variable Assaignment\n",
    "a = b = c = 20 # Multi variable Assaignment of the same value\n",
    "a1,b1,c1 = 111,222,333 # multi variable assaignment with different values\n",
    "print(n1)\n",
    "print(a,b,c)\n",
    "print(a1,b1,c1)"
   ]
  },
  {
   "cell_type": "markdown",
   "metadata": {},
   "source": [
    "### Data types and Conversions\n",
    "* int\n",
    "* char\n",
    "* float"
   ]
  },
  {
   "cell_type": "code",
   "execution_count": 9,
   "metadata": {},
   "outputs": [
    {
     "name": "stdout",
     "output_type": "stream",
     "text": [
      "100\n",
      "<class 'int'>\n"
     ]
    }
   ],
   "source": [
    "a = 100\n",
    "print(a)\n",
    "print(type(a))\n"
   ]
  },
  {
   "cell_type": "code",
   "execution_count": 10,
   "metadata": {},
   "outputs": [
    {
     "name": "stdout",
     "output_type": "stream",
     "text": [
      "100 Python p 10.2\n",
      "<class 'int'> <class 'str'> <class 'str'> <class 'float'>\n"
     ]
    }
   ],
   "source": [
    "a = 100\n",
    "s1 = \"Python\"\n",
    "s2 = \"p\"\n",
    "f1 = 10.2\n",
    "print(a,s1,s2,f1)\n",
    "print(type(a),type(s1),type(s2),type(f1))\n"
   ]
  },
  {
   "cell_type": "code",
   "execution_count": 11,
   "metadata": {},
   "outputs": [
    {
     "name": "stdout",
     "output_type": "stream",
     "text": [
      "<class 'int'>\n",
      "<class 'str'>\n",
      "<class 'float'>\n"
     ]
    }
   ],
   "source": [
    "i=100\n",
    "print(type(i))\n",
    "s1=str(i) # str()\n",
    "#converts the input into string type\n",
    "print(type(s1))\n",
    "f1 = float(i) # float() converts the input into\n",
    "print(type(f1))"
   ]
  },
  {
   "cell_type": "code",
   "execution_count": 12,
   "metadata": {},
   "outputs": [
    {
     "name": "stdout",
     "output_type": "stream",
     "text": [
      "<class 'str'>\n",
      "<class 'int'>\n",
      "<class 'int'>\n",
      "1\n"
     ]
    }
   ],
   "source": [
    "s1= \"100\"\n",
    "print(type(s1))\n",
    "a = int(s1)\n",
    "print(type(a))\n",
    "f = 1.5\n",
    "a1 = int(f)\n",
    "print(type(a1))\n",
    "print(a1)"
   ]
  },
  {
   "cell_type": "code",
   "execution_count": 13,
   "metadata": {},
   "outputs": [
    {
     "name": "stdout",
     "output_type": "stream",
     "text": [
      "4\n"
     ]
    }
   ],
   "source": [
    "# A number is given\n",
    "# digit count\n",
    "A1 = 1234\n",
    "print(len(str(A1)))"
   ]
  },
  {
   "cell_type": "markdown",
   "metadata": {},
   "source": [
    "# Reading the value -- Input function\n",
    "* inpu(\"message\")=string"
   ]
  },
  {
   "cell_type": "code",
   "execution_count": 14,
   "metadata": {},
   "outputs": [
    {
     "name": "stdout",
     "output_type": "stream",
     "text": [
      "enter your nameyashwanth\n",
      "yashwanth\n",
      "<class 'str'>\n"
     ]
    }
   ],
   "source": [
    "s1 = input(\"enter your name\")\n",
    "print(s1)\n",
    "print(type(s1))"
   ]
  },
  {
   "cell_type": "code",
   "execution_count": 15,
   "metadata": {},
   "outputs": [
    {
     "name": "stdout",
     "output_type": "stream",
     "text": [
      "enter a number1245\n",
      "1245 <class 'int'>\n"
     ]
    }
   ],
   "source": [
    "# want a number as a input'\n",
    "n1 = int(input(\"enter a number\"))\n",
    "print(n1,type(n1))\n"
   ]
  },
  {
   "cell_type": "markdown",
   "metadata": {},
   "source": [
    "# Operators\n",
    "* operator is a symbols is used to perform a specific kind of operation\n",
    "### Arthematic Operations\n",
    "* +\n",
    "* /\n",
    "* -\n",
    "* *\n",
    "* %\n",
    "* **\n",
    "* //"
   ]
  },
  {
   "cell_type": "code",
   "execution_count": 16,
   "metadata": {},
   "outputs": [
    {
     "name": "stdout",
     "output_type": "stream",
     "text": [
      "1244\n",
      "123.4\n",
      "1224\n",
      "12340\n",
      "4\n",
      "8187505353567209228244052427776\n",
      "123\n"
     ]
    }
   ],
   "source": [
    "n1=1234\n",
    "print(n1+10)\n",
    "print(n1/10)\n",
    "print(n1-10)\n",
    "print(n1*10)\n",
    "print(n1%10)\n",
    "print(n1**10)\n",
    "print(n1//10)"
   ]
  },
  {
   "cell_type": "markdown",
   "metadata": {},
   "source": [
    "### Precedence of the Arth operations\n",
    "\n",
    "* Paranthesis\n",
    "* power\n",
    "* Multiplication\n",
    "* Addition\n",
    "### Left to Right"
   ]
  },
  {
   "cell_type": "code",
   "execution_count": 17,
   "metadata": {},
   "outputs": [
    {
     "name": "stdout",
     "output_type": "stream",
     "text": [
      "8.0\n"
     ]
    }
   ],
   "source": [
    "x = 1 + 2 ** 3 / 4 + 5\n",
    "print(x)"
   ]
  },
  {
   "cell_type": "code",
   "execution_count": 18,
   "metadata": {},
   "outputs": [
    {
     "name": "stdout",
     "output_type": "stream",
     "text": [
      "11.0\n"
     ]
    }
   ],
   "source": [
    "x = 1 + 2 ** 3 / 4 * 5\n",
    "print(x)"
   ]
  },
  {
   "cell_type": "markdown",
   "metadata": {},
   "source": [
    "### Relational operators\n",
    "* == != <> <= >=\n",
    "\n",
    "### Logical operators\n",
    "\n",
    "##### Used to combine single condition\n",
    "* And\n",
    "* or\n",
    "* not"
   ]
  },
  {
   "cell_type": "code",
   "execution_count": 26,
   "metadata": {},
   "outputs": [
    {
     "name": "stdout",
     "output_type": "stream",
     "text": [
      "True\n",
      "False\n"
     ]
    }
   ],
   "source": [
    "i=100\n",
    "a1 = 100\n",
    "a1 = (i > 15) and (i < 800)\n",
    "a2 = (i > 15) and (i > 800)\n",
    "print(a1)\n",
    "print(a2)"
   ]
  },
  {
   "cell_type": "markdown",
   "metadata": {},
   "source": [
    "### Control flow Statements\n",
    "* Conditional statements\n",
    "* Looping statements\n",
    "\n",
    "###syntax\n",
    "* if Boolean_condition\n",
    "* statements\n",
    "* else :\n",
    "* statements"
   ]
  },
  {
   "cell_type": "code",
   "execution_count": 24,
   "metadata": {},
   "outputs": [
    {
     "name": "stdout",
     "output_type": "stream",
     "text": [
      "enter a number65\n",
      "odd\n"
     ]
    }
   ],
   "source": [
    "# to check given number is even or odd\n",
    "n = int(input(\"enter a number\"))\n",
    "if n%2==0 :\n",
    "    print(\"even\")\n",
    "else :\n",
    "    print(\"odd\")"
   ]
  },
  {
   "cell_type": "code",
   "execution_count": 25,
   "metadata": {},
   "outputs": [
    {
     "name": "stdout",
     "output_type": "stream",
     "text": [
      "enter a number20\n",
      "no\n"
     ]
    }
   ],
   "source": [
    "# to check given number is perfectly multiple of 3 and 5\n",
    "n = int(input(\"enter a number\"))\n",
    "if n%3 == 0 and n%5 == 0:\n",
    "    print(\"yes\")\n",
    "else:\n",
    "    print(\"no\")"
   ]
  },
  {
   "cell_type": "code",
   "execution_count": 27,
   "metadata": {},
   "outputs": [
    {
     "name": "stdout",
     "output_type": "stream",
     "text": [
      "enter a number4\n",
      "positive number\n"
     ]
    }
   ],
   "source": [
    "# test given number is positive, negative or zero\n",
    "n = int(input(\"enter a number\"))\n",
    "if n==0:\n",
    "    print(\"zero\")\n",
    "if n>0:\n",
    "    print(\"positive number\")\n",
    "if n<0:\n",
    "    print(\"negative number\")"
   ]
  },
  {
   "cell_type": "code",
   "execution_count": null,
   "metadata": {},
   "outputs": [],
   "source": []
  }
 ],
 "metadata": {
  "kernelspec": {
   "display_name": "Python 3",
   "language": "python",
   "name": "python3"
  },
  "language_info": {
   "codemirror_mode": {
    "name": "ipython",
    "version": 3
   },
   "file_extension": ".py",
   "mimetype": "text/x-python",
   "name": "python",
   "nbconvert_exporter": "python",
   "pygments_lexer": "ipython3",
   "version": "3.7.3"
  }
 },
 "nbformat": 4,
 "nbformat_minor": 2
}
